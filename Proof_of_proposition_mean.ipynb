{
 "cells": [
  {
   "cell_type": "markdown",
   "id": "390470f6",
   "metadata": {},
   "source": [
    "This notebook provides a step-by-step calculation to demonstrate the core proposition\n",
    "of Prediction-Powered Inference (PPI) for mean estimation. It shows how PPI combines\n",
    "a small labeled dataset with a large unlabeled dataset to produce a more precise\n",
    "estimate."
   ]
  },
  {
   "cell_type": "code",
   "execution_count": 14,
   "id": "13df09b4",
   "metadata": {},
   "outputs": [
    {
     "name": "stdout",
     "output_type": "stream",
     "text": [
      "The autoreload extension is already loaded. To reload it, use:\n",
      "  %reload_ext autoreload\n"
     ]
    }
   ],
   "source": [
    "%load_ext autoreload\n",
    "%autoreload 2\n",
    "import os, sys\n",
    "\n",
    "sys.path.append(os.path.abspath(os.path.join(os.getcwd(), os.pardir)))\n",
    "import numpy as np\n",
    "from ppi_py.datasets import load_dataset"
   ]
  },
  {
   "cell_type": "code",
   "execution_count": 15,
   "id": "dc35cc1f",
   "metadata": {},
   "outputs": [
    {
     "name": "stdout",
     "output_type": "stream",
     "text": [
      "[1. 0. 0. 0. 1. 0. 0. 0. 0.]\n",
      "[0.14660134 0.01642194 0.08404195 0.03080211 0.55973437 0.19156072\n",
      " 0.21175678 0.04103236 0.05024965]\n"
     ]
    }
   ],
   "source": [
    "dataset_folder = \"./data/\"\n",
    "data = load_dataset(dataset_folder, \"forest\")\n",
    "Y_total = data[\"Y\"]\n",
    "Yhat_total = data[\"Yhat\"]\n",
    "\n",
    "\n",
    "print(Y_total[31:40])\n",
    "print(Yhat_total[31:40])"
   ]
  },
  {
   "cell_type": "markdown",
   "id": "1b3b9192",
   "metadata": {},
   "source": [
    "Define the Dataset Split\n",
    "We define a very small labeled dataset (labeled_idx) of 9 samples.\n",
    "The rest of the data becomes the unlabeled dataset (unlabeled_idx).\n",
    "This setup of N >> n is crucial for PPI's effectiveness."
   ]
  },
  {
   "cell_type": "code",
   "execution_count": 16,
   "id": "707bf9bb",
   "metadata": {},
   "outputs": [],
   "source": [
    "labeled_idx = np.arange(31, 40)   # 9 samples\n",
    "unlabeled_idx = np.setdiff1d(np.arange(len(Y_total)), labeled_idx)"
   ]
  },
  {
   "cell_type": "markdown",
   "id": "df840df0",
   "metadata": {},
   "source": [
    "We calculate the two main estimates to be compared:\n",
    "- theta_classical: The classical estimate, which is simply the mean of the\n",
    "small, labeled gold-standard dataset. It ignores all predicted data.\n",
    "- theta_ppi: The Prediction-Powered Inference estimate. The formula used here,\n",
    "Y_total[labeled_idx].mean() - Yhat_total[unlabeled_idx].mean(), is a simplified\n",
    "estimator for the PPI mean, demonstrating the core concept of rectifying a\n",
    "prediction-based estimate using the labeled data."
   ]
  },
  {
   "cell_type": "markdown",
   "id": "b1b5d260",
   "metadata": {},
   "source": []
  },
  {
   "cell_type": "code",
   "execution_count": 17,
   "id": "76393fdf",
   "metadata": {},
   "outputs": [],
   "source": [
    "n = len(labeled_idx)\n",
    "N = len(Y_total)\n",
    "\n",
    "theta_classical = Y_total[labeled_idx].mean()\n",
    "theta_ppi = (Y_total[labeled_idx].mean()) - (Yhat_total[unlabeled_idx].mean())"
   ]
  },
  {
   "cell_type": "markdown",
   "id": "0ccbeed2",
   "metadata": {},
   "source": [
    "This cell provides an alternative formulation of the PPI estimator.\n",
    "It is a weighted average of the labeled and unlabeled data, a form that\n",
    "highlights how the estimate combines information from both sources."
   ]
  },
  {
   "cell_type": "code",
   "execution_count": 18,
   "id": "c4f37d86",
   "metadata": {},
   "outputs": [],
   "source": [
    "theta_ppi = (n/N) * Y_total[labeled_idx].mean() + ((N-n)/N) * Yhat_total[unlabeled_idx].mean()"
   ]
  },
  {
   "cell_type": "code",
   "execution_count": 19,
   "id": "acd5c29e",
   "metadata": {},
   "outputs": [
    {
     "name": "stdout",
     "output_type": "stream",
     "text": [
      "0.2222222222222222\n",
      "0.15452251659883148\n"
     ]
    }
   ],
   "source": [
    "print(theta_classical)\n",
    "print(theta_ppi)"
   ]
  },
  {
   "cell_type": "markdown",
   "id": "d91a4def",
   "metadata": {},
   "source": [
    "These lines calculate the key variance terms needed to prove the effectiveness\n",
    "of PPI.\n",
    "- var_errors: The variance of the \"rectifier\" term, which is the difference\n",
    "between the true labels and the model's predictions on the labeled data.\n",
    "- var_yhat_unlabeled: The variance of the predictions on the large, unlabeled\n",
    "dataset.\n",
    "The PPI confidence interval's width depends on these two variances."
   ]
  },
  {
   "cell_type": "code",
   "execution_count": 20,
   "id": "01ad41e2",
   "metadata": {},
   "outputs": [],
   "source": [
    "errors = Y_total[labeled_idx] - Yhat_total[labeled_idx]\n",
    "var_errors = errors.var(ddof=1)   # sample variance"
   ]
  },
  {
   "cell_type": "code",
   "execution_count": 21,
   "id": "99494aae",
   "metadata": {},
   "outputs": [],
   "source": [
    "var_yhat_unlabeled = Yhat_total[unlabeled_idx].var(ddof=1)"
   ]
  },
  {
   "cell_type": "code",
   "execution_count": 22,
   "id": "dff9dd3f",
   "metadata": {},
   "outputs": [
    {
     "name": "stdout",
     "output_type": "stream",
     "text": [
      "0.12082489240228936 \t 0.046341041450386665\n"
     ]
    }
   ],
   "source": [
    "print(var_errors,'\\t',var_yhat_unlabeled)"
   ]
  },
  {
   "cell_type": "code",
   "execution_count": null,
   "id": "a029ec86",
   "metadata": {},
   "outputs": [
    {
     "name": "stdout",
     "output_type": "stream",
     "text": [
      "0.15162907268170425\n"
     ]
    }
   ],
   "source": [
    "# True Mean\n",
    "theta_star = Y_total.mean()\n",
    "print(theta_star)"
   ]
  },
  {
   "cell_type": "code",
   "execution_count": 24,
   "id": "75bb4598",
   "metadata": {},
   "outputs": [
    {
     "name": "stdout",
     "output_type": "stream",
     "text": [
      "[np.float64(-0.07282078717826854), np.float64(0.38186582037593153)]\n"
     ]
    }
   ],
   "source": [
    "lower_ppi_ci = theta_ppi - (1.96 * np.sqrt((var_errors/n)+(var_yhat_unlabeled/N)))\n",
    "upper_ppi_ci = theta_ppi + (1.96 * np.sqrt((var_errors/n)+(var_yhat_unlabeled/N)))\n",
    "PPi_ci = [lower_ppi_ci, upper_ppi_ci]\n",
    "print(PPi_ci)"
   ]
  },
  {
   "cell_type": "code",
   "execution_count": 25,
   "id": "e1e25841",
   "metadata": {},
   "outputs": [
    {
     "name": "stdout",
     "output_type": "stream",
     "text": [
      "0.15162907268170425 lies in Predictive powered Confidence interval.\n"
     ]
    }
   ],
   "source": [
    "if theta_star in PPi_ci:\n",
    "    print(f\"{theta_star} lies in Predictive powered Confidence interval.\")\n",
    "else:\n",
    "    print(f\"{theta_star} lies in Predictive powered Confidence interval.\")"
   ]
  }
 ],
 "metadata": {
  "kernelspec": {
   "display_name": "Python 3",
   "language": "python",
   "name": "python3"
  },
  "language_info": {
   "codemirror_mode": {
    "name": "ipython",
    "version": 3
   },
   "file_extension": ".py",
   "mimetype": "text/x-python",
   "name": "python",
   "nbconvert_exporter": "python",
   "pygments_lexer": "ipython3",
   "version": "3.12.1"
  }
 },
 "nbformat": 4,
 "nbformat_minor": 5
}
