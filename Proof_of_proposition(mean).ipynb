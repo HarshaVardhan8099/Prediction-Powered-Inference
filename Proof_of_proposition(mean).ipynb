{
 "cells": [
  {
   "cell_type": "code",
   "execution_count": 1,
   "id": "13df09b4",
   "metadata": {},
   "outputs": [],
   "source": [
    "%load_ext autoreload\n",
    "%autoreload 2\n",
    "import os, sys\n",
    "\n",
    "sys.path.append(os.path.abspath(os.path.join(os.getcwd(), os.pardir)))\n",
    "import numpy as np\n",
    "from ppi_py.datasets import load_dataset"
   ]
  },
  {
   "cell_type": "code",
   "execution_count": 2,
   "id": "dc35cc1f",
   "metadata": {},
   "outputs": [
    {
     "name": "stdout",
     "output_type": "stream",
     "text": [
      "Dataset forest not found at location ./data/; downloading now...\n",
      "[1. 0. 0. 0. 1. 0. 0. 0. 0.]\n",
      "[0.14660134 0.01642194 0.08404195 0.03080211 0.55973437 0.19156072\n",
      " 0.21175678 0.04103236 0.05024965]\n"
     ]
    },
    {
     "name": "stderr",
     "output_type": "stream",
     "text": [
      "Downloading...\n",
      "From: https://drive.google.com/uc?id=1Vqi1wSmVnWh_2lLQuDwrhkGcipvoWBc0\n",
      "To: /workspaces/Prediction-Powered-Inference/data/forest.npz\n",
      "100%|██████████| 26.0k/26.0k [00:00<00:00, 4.82MB/s]\n"
     ]
    }
   ],
   "source": [
    "dataset_folder = \"./data/\"\n",
    "data = load_dataset(dataset_folder, \"forest\")\n",
    "Y_total = data[\"Y\"]\n",
    "Yhat_total = data[\"Yhat\"]\n",
    "\n",
    "\n",
    "print(Y_total[31:40])\n",
    "print(Yhat_total[31:40])"
   ]
  },
  {
   "cell_type": "code",
   "execution_count": 3,
   "id": "707bf9bb",
   "metadata": {},
   "outputs": [],
   "source": [
    "labeled_idx = np.arange(31, 40)   # 9 samples\n",
    "unlabeled_idx = np.setdiff1d(np.arange(len(Y_total)), labeled_idx)"
   ]
  },
  {
   "cell_type": "code",
   "execution_count": 4,
   "id": "76393fdf",
   "metadata": {},
   "outputs": [],
   "source": [
    "n = len(labeled_idx)\n",
    "N = len(Y_total)\n",
    "\n",
    "theta_classical = Y_total[labeled_idx].mean()\n",
    "theta_ppi = (Y_total[labeled_idx].mean()) - (Yhat_total[unlabeled_idx].mean())"
   ]
  },
  {
   "cell_type": "code",
   "execution_count": 5,
   "id": "c4f37d86",
   "metadata": {},
   "outputs": [],
   "source": [
    "theta_ppi = (n/N) * Y_total[labeled_idx].mean() + ((N-n)/N) * Yhat_total[unlabeled_idx].mean()"
   ]
  },
  {
   "cell_type": "code",
   "execution_count": 6,
   "id": "acd5c29e",
   "metadata": {},
   "outputs": [
    {
     "name": "stdout",
     "output_type": "stream",
     "text": [
      "0.2222222222222222\n",
      "0.15452251659883148\n"
     ]
    }
   ],
   "source": [
    "print(theta_classical)\n",
    "print(theta_ppi)"
   ]
  },
  {
   "cell_type": "code",
   "execution_count": 7,
   "id": "01ad41e2",
   "metadata": {},
   "outputs": [],
   "source": [
    "errors = Y_total[labeled_idx] - Yhat_total[labeled_idx]\n",
    "var_errors = errors.var(ddof=1)   # sample variance"
   ]
  },
  {
   "cell_type": "code",
   "execution_count": 8,
   "id": "99494aae",
   "metadata": {},
   "outputs": [],
   "source": [
    "var_yhat_unlabeled = Yhat_total[unlabeled_idx].var(ddof=1)"
   ]
  },
  {
   "cell_type": "code",
   "execution_count": 9,
   "id": "dff9dd3f",
   "metadata": {},
   "outputs": [
    {
     "name": "stdout",
     "output_type": "stream",
     "text": [
      "0.12082489240228936 \t 0.046341041450386665\n"
     ]
    }
   ],
   "source": [
    "print(var_errors,'\\t',var_yhat_unlabeled)"
   ]
  },
  {
   "cell_type": "code",
   "execution_count": 10,
   "id": "a029ec86",
   "metadata": {},
   "outputs": [
    {
     "name": "stdout",
     "output_type": "stream",
     "text": [
      "0.15162907268170425\n"
     ]
    }
   ],
   "source": [
    "theta_star = Y_total.mean()\n",
    "print(theta_star)"
   ]
  },
  {
   "cell_type": "code",
   "execution_count": null,
   "id": "6e50b4e7",
   "metadata": {},
   "outputs": [],
   "source": []
  }
 ],
 "metadata": {
  "kernelspec": {
   "display_name": "Python 3",
   "language": "python",
   "name": "python3"
  },
  "language_info": {
   "codemirror_mode": {
    "name": "ipython",
    "version": 3
   },
   "file_extension": ".py",
   "mimetype": "text/x-python",
   "name": "python",
   "nbconvert_exporter": "python",
   "pygments_lexer": "ipython3",
   "version": "3.12.1"
  }
 },
 "nbformat": 4,
 "nbformat_minor": 5
}
