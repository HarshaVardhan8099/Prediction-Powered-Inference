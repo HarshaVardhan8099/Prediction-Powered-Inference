{
 "cells": [
  {
   "cell_type": "code",
   "execution_count": 2,
   "id": "9c62c79d",
   "metadata": {},
   "outputs": [],
   "source": [
    "%load_ext autoreload\n",
    "%autoreload 2\n",
    "import os, sys\n",
    "\n",
    "sys.path.append(os.path.abspath(os.path.join(os.getcwd(), os.pardir)))\n",
    "import numpy as np\n",
    "from ppi_py.datasets import load_dataset"
   ]
  },
  {
   "cell_type": "code",
   "execution_count": 3,
   "id": "eb67a8af",
   "metadata": {},
   "outputs": [],
   "source": [
    "dataset_folder = \"./data/\"\n",
    "data = load_dataset(dataset_folder, \"forest\")\n",
    "Y_total = data[\"Y\"]\n",
    "Yhat_total = data[\"Yhat\"]"
   ]
  },
  {
   "cell_type": "code",
   "execution_count": 15,
   "id": "a8c65ec3",
   "metadata": {},
   "outputs": [],
   "source": [
    "labeled_idx = np.arange(31, 1331)   # 790 samples, where n >> N\n",
    "unlabeled_idx = np.setdiff1d(np.arange(len(Y_total)), labeled_idx)"
   ]
  },
  {
   "cell_type": "code",
   "execution_count": 16,
   "metadata": {},
   "outputs": [],
   "source": [
    "n = len(labeled_idx)\n",
    "N = len(Y_total)\n",
    "\n",
    "theta_classical = Y_total[labeled_idx].mean()\n",
    "theta_ppi = (Y_total[labeled_idx].mean()) - (Yhat_total[unlabeled_idx].mean())"
   ]
  },
  {
   "cell_type": "code",
   "execution_count": 17,
   "id": "f76147cf",
   "metadata": {},
   "outputs": [],
   "source": [
    "theta_ppi = (n/N) * Y_total[labeled_idx].mean() + ((N-n)/N) * Yhat_total[unlabeled_idx].mean()"
   ]
  },
  {
   "cell_type": "code",
   "execution_count": 18,
   "id": "0dbae2dc",
   "metadata": {},
   "outputs": [
    {
     "name": "stdout",
     "output_type": "stream",
     "text": [
      "0.1453846153846154\n",
      "0.15010119619256243\n"
     ]
    }
   ],
   "source": [
    "print(theta_classical)\n",
    "print(theta_ppi)"
   ]
  },
  {
   "cell_type": "code",
   "execution_count": 19,
   "id": "b83f101d",
   "metadata": {},
   "outputs": [],
   "source": [
    "errors = Y_total[labeled_idx] - Yhat_total[labeled_idx]\n",
    "var_errors = errors.var(ddof=1)   # sample variance"
   ]
  },
  {
   "cell_type": "code",
   "execution_count": 20,
   "id": "69b7b0f0",
   "metadata": {},
   "outputs": [],
   "source": [
    "var_yhat_unlabeled = Yhat_total[unlabeled_idx].var(ddof=1)"
   ]
  },
  {
   "cell_type": "code",
   "execution_count": 21,
   "id": "8f689f33",
   "metadata": {},
   "outputs": [
    {
     "name": "stdout",
     "output_type": "stream",
     "text": [
      "0.0895620031936097 \t 0.053984244184000975\n"
     ]
    }
   ],
   "source": [
    "print(var_errors,'\\t',var_yhat_unlabeled)"
   ]
  },
  {
   "cell_type": "code",
   "execution_count": 22,
   "id": "9acb634d",
   "metadata": {},
   "outputs": [
    {
     "name": "stdout",
     "output_type": "stream",
     "text": [
      "[np.float64(0.13023656350869758), np.float64(0.16996582887642728)]\n"
     ]
    }
   ],
   "source": [
    "lower_ppi_ci = theta_ppi - (1.96 * np.sqrt((var_errors/n)+(var_yhat_unlabeled/N)))\n",
    "upper_ppi_ci = theta_ppi + (1.96 * np.sqrt((var_errors/n)+(var_yhat_unlabeled/N)))\n",
    "PPi_ci = [lower_ppi_ci, upper_ppi_ci]\n",
    "print(PPi_ci)"
   ]
  },
  {
   "cell_type": "code",
   "execution_count": 23,
   "id": "f93df28f",
   "metadata": {},
   "outputs": [
    {
     "name": "stdout",
     "output_type": "stream",
     "text": [
      "0.15162907268170425\n"
     ]
    }
   ],
   "source": [
    "theta_star = Y_total.mean()\n",
    "print(theta_star)"
   ]
  },
  {
   "cell_type": "code",
   "execution_count": null,
   "id": "86e63967",
   "metadata": {},
   "outputs": [],
   "source": []
  },
  {
   "cell_type": "code",
   "execution_count": null,
   "id": "152329ab",
   "metadata": {},
   "outputs": [],
   "source": []
  }
 ],
 "metadata": {
  "kernelspec": {
   "display_name": "Python 3",
   "language": "python",
   "name": "python3"
  },
  "language_info": {
   "codemirror_mode": {
    "name": "ipython",
    "version": 3
   },
   "file_extension": ".py",
   "mimetype": "text/x-python",
   "name": "python",
   "nbconvert_exporter": "python",
   "pygments_lexer": "ipython3",
   "version": "3.12.1"
  }
 },
 "nbformat": 4,
 "nbformat_minor": 5
}
