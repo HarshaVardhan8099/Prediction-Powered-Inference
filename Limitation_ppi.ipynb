{
 "cells": [
  {
   "cell_type": "markdown",
   "id": "c6a0236a",
   "metadata": {},
   "source": [
    "A key limitation of Prediction-Powered Inference (PPI) is that its effectiveness\n",
    "hinges on two main factors: the quality of the predictive model and the\n",
    "availability of a sufficiently large unlabeled dataset. This notebook\n",
    "demonstrates the second point by violating the assumption that the labeled\n",
    "dataset size (n) is much smaller than the unlabeled dataset size (N)."
   ]
  },
  {
   "cell_type": "code",
   "execution_count": 43,
   "id": "9c62c79d",
   "metadata": {},
   "outputs": [
    {
     "name": "stdout",
     "output_type": "stream",
     "text": [
      "The autoreload extension is already loaded. To reload it, use:\n",
      "  %reload_ext autoreload\n"
     ]
    }
   ],
   "source": [
    "%load_ext autoreload\n",
    "%autoreload 2\n",
    "import os, sys\n",
    "\n",
    "sys.path.append(os.path.abspath(os.path.join(os.getcwd(), os.pardir)))\n",
    "import numpy as np\n",
    "from ppi_py.datasets import load_dataset"
   ]
  },
  {
   "cell_type": "markdown",
   "id": "6aa5f27b",
   "metadata": {},
   "source": [
    "Load the forest dataset\n",
    "We load the forest dataset, which contains:\n",
    "- Y_total: The complete set of gold-standard (true) deforestation labels.\n",
    "- Yhat_total: The complete set of model-predicted deforestation labels.\n",
    "The goal is to see how PPI performs when we have a large labeled sample."
   ]
  },
  {
   "cell_type": "code",
   "execution_count": 44,
   "id": "eb67a8af",
   "metadata": {},
   "outputs": [],
   "source": [
    "dataset_folder = \"./data/\"\n",
    "data = load_dataset(dataset_folder, \"forest\")\n",
    "Y_total = data[\"Y\"]\n",
    "Yhat_total = data[\"Yhat\"]"
   ]
  },
  {
   "cell_type": "markdown",
   "id": "c6e85830",
   "metadata": {},
   "source": [
    "Define the dataset split\n",
    "In this experiment, we intentionally create a large labeled dataset.\n",
    "We are selecting a large range of indices to ensure n is large,\n",
    "which violates the core PPI assumption of N >> n."
   ]
  },
  {
   "cell_type": "code",
   "execution_count": null,
   "id": "a8c65ec3",
   "metadata": {},
   "outputs": [],
   "source": [
    "labeled_idx = np.arange(1, 1580)   # where n >> N\n",
    "unlabeled_idx = np.setdiff1d(np.arange(len(Y_total)), labeled_idx)"
   ]
  },
  {
   "cell_type": "markdown",
   "id": "bc4ea02e",
   "metadata": {},
   "source": [
    "Calculate the total size and the PPI and Classical estimates\n",
    "We get the size of our labeled and total datasets.\n",
    "\n",
    "The classical estimate is simply the average of the labeled gold-standard data.\n",
    "It does not use any of the predicted data.\n",
    "theta_classical = Y_total[labeled_idx].mean()\n",
    "\n",
    "The PPI estimate is a combined estimator. The formula below is a common\n",
    "alternative representation of the PPI estimator for the mean.\n",
    "It is a weighted average of the labeled sample mean and the unlabeled sample mean\n",
    "of the predictions, adjusted by the difference between the predictions and labels.\n",
    "In this specific implementation, the formula is simplified.\n",
    "The theta_ppi estimate here is not the standard PPI estimator\n",
    "and will give a slightly different value. A more accurate PPI estimator for the\n",
    "mean is:\n",
    "theta_ppi = Yhat_total.mean() - (Y_total[labeled_idx] - Yhat_total[labeled_idx]).mean()\n",
    "theta_ppi = (Y_total[labeled_idx].mean()) - (Yhat_total[unlabeled_idx].mean())\n",
    "\n",
    "This line uses a different formulation for the PPI estimate, which might\n",
    "be less stable, but serves the purpose of this example. It shows how the\n",
    "estimate becomes more reliant on the labeled data as n increases.\n",
    "theta_ppi = (n/N) * Y_total[labeled_idx].mean() + ((N-n)/N) * Yhat_total[unlabeled_idx].mean()"
   ]
  },
  {
   "cell_type": "code",
   "execution_count": 46,
   "metadata": {},
   "outputs": [],
   "source": [
    "n = len(labeled_idx)\n",
    "N = len(Y_total)\n",
    "\n",
    "theta_classical = Y_total[labeled_idx].mean()\n",
    "theta_ppi = (Y_total[labeled_idx].mean()) - (Yhat_total[unlabeled_idx].mean())"
   ]
  },
  {
   "cell_type": "code",
   "execution_count": 47,
   "id": "f76147cf",
   "metadata": {},
   "outputs": [],
   "source": [
    "theta_ppi = (n/N) * Y_total[labeled_idx].mean() + ((N-n)/N) * Yhat_total[unlabeled_idx].mean()"
   ]
  },
  {
   "cell_type": "code",
   "execution_count": 48,
   "id": "0dbae2dc",
   "metadata": {},
   "outputs": [
    {
     "name": "stdout",
     "output_type": "stream",
     "text": [
      "0.1513616212792907\n",
      "0.1525698519252756\n"
     ]
    }
   ],
   "source": [
    "print(theta_classical)\n",
    "print(theta_ppi)"
   ]
  },
  {
   "cell_type": "markdown",
   "id": "1bfb40af",
   "metadata": {},
   "source": [
    "Calculate variance terms\n",
    "These lines calculate the variance of the prediction errors (the difference\n",
    "between the true label and the model's prediction) and the variance of the\n",
    "predictions on the unlabeled data. These are the components used to calculate\n",
    "the final confidence interval width."
   ]
  },
  {
   "cell_type": "code",
   "execution_count": 49,
   "id": "b83f101d",
   "metadata": {},
   "outputs": [],
   "source": [
    "errors = Y_total[labeled_idx] - Yhat_total[labeled_idx]\n",
    "var_errors = errors.var(ddof=1)   # sample variance"
   ]
  },
  {
   "cell_type": "code",
   "execution_count": 50,
   "id": "69b7b0f0",
   "metadata": {},
   "outputs": [],
   "source": [
    "var_yhat_unlabeled = Yhat_total[unlabeled_idx].var(ddof=1)"
   ]
  },
  {
   "cell_type": "code",
   "execution_count": 51,
   "id": "8f689f33",
   "metadata": {},
   "outputs": [
    {
     "name": "stdout",
     "output_type": "stream",
     "text": [
      "0.09149123081823825 \t 0.0792621405879498\n"
     ]
    }
   ],
   "source": [
    "print(var_errors,'\\t',var_yhat_unlabeled)"
   ]
  },
  {
   "cell_type": "code",
   "execution_count": 52,
   "id": "9acb634d",
   "metadata": {},
   "outputs": [
    {
     "name": "stdout",
     "output_type": "stream",
     "text": [
      "[np.float64(0.14764253082536408), np.float64(0.15749717302518715)]\n"
     ]
    }
   ],
   "source": [
    "lower_ppi_ci = theta_ppi - (0.475 * np.sqrt((var_errors/n)+(var_yhat_unlabeled/N)))\n",
    "upper_ppi_ci = theta_ppi + (0.475 * np.sqrt((var_errors/n)+(var_yhat_unlabeled/N)))\n",
    "PPi_ci = [lower_ppi_ci, upper_ppi_ci]\n",
    "print(PPi_ci)"
   ]
  },
  {
   "cell_type": "markdown",
   "id": "ffe3e219",
   "metadata": {},
   "source": [
    "Print the true mean\n",
    "This line prints the true mean of the entire Y_total dataset.\n",
    "The goal of both the classical and PPI estimators is to get as close to this\n",
    "true value as possible."
   ]
  },
  {
   "cell_type": "code",
   "execution_count": 53,
   "id": "f93df28f",
   "metadata": {},
   "outputs": [
    {
     "name": "stdout",
     "output_type": "stream",
     "text": [
      "0.15162907268170425\n"
     ]
    }
   ],
   "source": [
    "theta_star = Y_total.mean()\n",
    "print(theta_star)"
   ]
  },
  {
   "cell_type": "code",
   "execution_count": 54,
   "id": "86e63967",
   "metadata": {},
   "outputs": [
    {
     "name": "stdout",
     "output_type": "stream",
     "text": [
      "0.15162907268170425 lies in Predictive powered Confidence interval.\n"
     ]
    }
   ],
   "source": [
    "if theta_star in PPi_ci:\n",
    "    print(f\"{theta_star} lies in Predictive powered Confidence interval.\")\n",
    "else:\n",
    "    print(f\"{theta_star} lies in Predictive powered Confidence interval.\")"
   ]
  },
  {
   "cell_type": "markdown",
   "id": "d855edb7",
   "metadata": {},
   "source": []
  }
 ],
 "metadata": {
  "kernelspec": {
   "display_name": "Python 3",
   "language": "python",
   "name": "python3"
  },
  "language_info": {
   "codemirror_mode": {
    "name": "ipython",
    "version": 3
   },
   "file_extension": ".py",
   "mimetype": "text/x-python",
   "name": "python",
   "nbconvert_exporter": "python",
   "pygments_lexer": "ipython3",
   "version": "3.12.1"
  }
 },
 "nbformat": 4,
 "nbformat_minor": 5
}
