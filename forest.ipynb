{
 "cells": [
  {
   "cell_type": "markdown",
   "id": "9cacba7c-b3e3-4b6d-a0c0-c0d396cb4faa",
   "metadata": {},
   "source": [
    "# Estimating deforestation in the Amazon\n",
    "\n",
    "The goal is to estimate the fraction of the Amazon rainforest lost between 2000 and 2015. The data contains gold-standard deforestation labels for parcels that were collected through field visits (1), as well as predictions of forest cover based on applying computer vision to satellite imagery (2).\n",
    "\n",
    "1. E. L. Bullock, C. E. Woodcock, C. Souza Jr, P. Olofsson, Satellite‐based estimates reveal widespread forest degradation in the Amazon. Global Change Biology 26(5), 2956–2969 (2020).\n",
    "2. J. O. Sexton, J. X-P. Song, M. Feng, P. Noojipady, A. Anand, C. Huang, D-H. Kim, K. M. Collins, S. Channan, C. DiMiceli, J. R. Townshend, Global, 30-m resolution continuous fields of tree cover: Landsat-based rescaling of MODIS vegetation continuous fields with lidar-based estimates of error. International Journal of Digital Earth 6(5), 427–448 (2013)."
   ]
  },
  {
   "cell_type": "markdown",
   "id": "684efc31-fc6e-43e7-9522-bd38ad45afe1",
   "metadata": {},
   "source": [
    "### Import necessary packages"
   ]
  },
  {
   "cell_type": "code",
   "execution_count": 1,
   "id": "df3bad0d-8280-4d3b-9950-e456d8dc7328",
   "metadata": {
    "ExecuteTime": {
     "end_time": "2025-09-08T08:18:12.594682Z",
     "start_time": "2025-09-08T08:18:02.853721Z"
    }
   },
   "outputs": [],
   "source": [
    "%load_ext autoreload\n",
    "%autoreload 2\n",
    "import os, sys\n",
    "\n",
    "sys.path.append(os.path.abspath(os.path.join(os.getcwd(), os.pardir)))\n",
    "import numpy as np\n",
    "import pandas as pd\n",
    "from ppi_py.datasets import load_dataset\n",
    "\n",
    "from ppi_py import ppi_mean_ci, classical_mean_ci\n",
    "from tqdm import tqdm\n",
    "from scipy.optimize import brentq\n",
    "from utils import *"
   ]
  },
  {
   "cell_type": "markdown",
   "id": "5cf90ae6",
   "metadata": {},
   "source": [
    "### Import the forest data set\n",
    "\n",
    "Load the data. The data set contains gold-standard deforestation labels (```Y```) and predicted deforestation labels (```Yhat```)."
   ]
  },
  {
   "cell_type": "code",
   "execution_count": 2,
   "id": "a6da3138",
   "metadata": {
    "ExecuteTime": {
     "end_time": "2025-09-08T08:18:13.439237Z",
     "start_time": "2025-09-08T08:18:12.625399Z"
    }
   },
   "outputs": [
    {
     "name": "stdout",
     "output_type": "stream",
     "text": [
      "[1. 0. 0. 0. 1. 0. 0. 0. 0.]\n",
      "[0.14660134 0.01642194 0.08404195 0.03080211 0.55973437 0.19156072\n",
      " 0.21175678 0.04103236 0.05024965]\n"
     ]
    }
   ],
   "source": [
    "dataset_folder = \"./data/\"\n",
    "data = load_dataset(dataset_folder, \"forest\")\n",
    "Y_total = data[\"Y\"]\n",
    "Yhat_total = data[\"Yhat\"]\n",
    "\n",
    "\n",
    "print(Y_total[31:40])\n",
    "print(Yhat_total[31:40])"
   ]
  },
  {
   "cell_type": "markdown",
   "id": "8969f9db",
   "metadata": {},
   "source": [
    "### Problem setup\n",
    "\n",
    "Specify the error level (```alpha```), range of values for the labeled data set size (```ns```), and number of trials (```num_trials```).\n",
    "\n",
    "Compute the ground-truth value of the estimand."
   ]
  },
  {
   "cell_type": "code",
   "execution_count": 3,
   "id": "5b3c8f29",
   "metadata": {
    "ExecuteTime": {
     "end_time": "2025-09-07T10:26:24.230817Z",
     "start_time": "2025-09-07T10:26:23.989604Z"
    }
   },
   "outputs": [
    {
     "name": "stdout",
     "output_type": "stream",
     "text": [
      "1596\n",
      "[ 50 100 150 200 250 300 350 400 450 500]\n"
     ]
    }
   ],
   "source": [
    "alpha = 0.05\n",
    "n_total = Y_total.shape[0]  # Total number of labeled examples\n",
    "print(n_total)\n",
    "ns = np.linspace(50, 500, 10).astype(\n",
    "    int\n",
    ")  # Test for different numbers of labeled examples\n",
    "num_trials = 100\n",
    "\n",
    "# True mean (computed on all labels)\n",
    "true_theta = Y_total.mean()"
   ]
  },
  {
   "cell_type": "markdown",
   "id": "83ce18be",
   "metadata": {},
   "source": [
    " ### Construct intervals\n",
    "\n",
    "Form confidence intervals for all methods and problem parameters. A dataframe with the following columns is formed:\n",
    "1. ```method``` (one of ```PPI```, ```Classical```, and ```Imputation```)\n",
    "2. ```n``` (labeled data set size, takes values in ```ns```)\n",
    "3. ```lower``` (lower endpoint of the confidence interval)\n",
    "4. ```upper``` (upper endpoint of the confidence interval)\n",
    "5. ```trial``` (index of trial, goes from ```0``` to ```num_trials-1```)"
   ]
  },
  {
   "cell_type": "code",
   "execution_count": 4,
   "id": "812f8fd5",
   "metadata": {
    "ExecuteTime": {
     "end_time": "2025-09-07T10:26:46.806643Z",
     "start_time": "2025-09-07T10:26:44.367500Z"
    }
   },
   "outputs": [
    {
     "name": "stderr",
     "output_type": "stream",
     "text": [
      "100%|██████████| 10/10 [00:01<00:00,  5.22it/s]\n"
     ]
    }
   ],
   "source": [
    "# Run prediction-powered inference and classical inference for many values of n\n",
    "results = []\n",
    "for i in tqdm(range(ns.shape[0])):\n",
    "    for j in range(num_trials):\n",
    "        # Prediction-Powered Inference\n",
    "        n = ns[i]\n",
    "        rand_idx = np.random.permutation(n_total)\n",
    "        _Yhat = Yhat_total[rand_idx[:n]]\n",
    "        _Y = Y_total[rand_idx[:n]]\n",
    "        _Yhat_unlabeled = Yhat_total[rand_idx[n:]]\n",
    "\n",
    "        ppi_ci = ppi_mean_ci(_Y, _Yhat, _Yhat_unlabeled, alpha=alpha)\n",
    "\n",
    "        # Classical interval\n",
    "        classical_ci = classical_mean_ci(_Y, alpha=alpha)\n",
    "\n",
    "        # Append results\n",
    "        results += [\n",
    "            pd.DataFrame(\n",
    "                [\n",
    "                    {\n",
    "                        \"method\": \"PPI\",\n",
    "                        \"n\": n,\n",
    "                        \"lower\": ppi_ci[0],\n",
    "                        \"upper\": ppi_ci[1],\n",
    "                        \"trial\": j,\n",
    "                    }\n",
    "                ]\n",
    "            )\n",
    "        ]\n",
    "        results += [\n",
    "            pd.DataFrame(\n",
    "                [\n",
    "                    {\n",
    "                        \"method\": \"Classical\",\n",
    "                        \"n\": n,\n",
    "                        \"lower\": classical_ci[0],\n",
    "                        \"upper\": classical_ci[1],\n",
    "                        \"trial\": j,\n",
    "                    }\n",
    "                ]\n",
    "            )\n",
    "        ]\n",
    "\n",
    "# Imputed CI\n",
    "imputed_ci = classical_mean_ci(Yhat_total > 0.5, alpha=alpha)\n",
    "results += [\n",
    "    pd.DataFrame(\n",
    "        [\n",
    "            {\n",
    "                \"method\": \"Imputation\",\n",
    "                \"n\": np.nan,\n",
    "                \"lower\": imputed_ci[0],\n",
    "                \"upper\": imputed_ci[1],\n",
    "                \"trial\": 0,\n",
    "            }\n",
    "        ]\n",
    "    )\n",
    "]\n",
    "\n",
    "df = pd.concat(results, axis=0, ignore_index=True)\n",
    "df[\"width\"] = df[\"upper\"] - df[\"lower\"]"
   ]
  },
  {
   "cell_type": "code",
   "execution_count": 13,
   "id": "9656e6c3570f683b",
   "metadata": {
    "ExecuteTime": {
     "end_time": "2025-09-07T10:32:07.757006Z",
     "start_time": "2025-09-07T10:32:07.500348Z"
    }
   },
   "outputs": [
    {
     "name": "stdout",
     "output_type": "stream",
     "text": [
      "(2001, 6)\n"
     ]
    },
    {
     "data": {
      "text/html": [
       "<div>\n",
       "<style scoped>\n",
       "    .dataframe tbody tr th:only-of-type {\n",
       "        vertical-align: middle;\n",
       "    }\n",
       "\n",
       "    .dataframe tbody tr th {\n",
       "        vertical-align: top;\n",
       "    }\n",
       "\n",
       "    .dataframe thead th {\n",
       "        text-align: right;\n",
       "    }\n",
       "</style>\n",
       "<table border=\"1\" class=\"dataframe\">\n",
       "  <thead>\n",
       "    <tr style=\"text-align: right;\">\n",
       "      <th></th>\n",
       "      <th>method</th>\n",
       "      <th>n</th>\n",
       "      <th>lower</th>\n",
       "      <th>upper</th>\n",
       "      <th>trial</th>\n",
       "      <th>width</th>\n",
       "    </tr>\n",
       "  </thead>\n",
       "  <tbody>\n",
       "    <tr>\n",
       "      <th>0</th>\n",
       "      <td>PPI</td>\n",
       "      <td>50.0</td>\n",
       "      <td>[0.06049576565377464]</td>\n",
       "      <td>[0.18598778993915965]</td>\n",
       "      <td>0</td>\n",
       "      <td>[0.12549202428538503]</td>\n",
       "    </tr>\n",
       "    <tr>\n",
       "      <th>1</th>\n",
       "      <td>Classical</td>\n",
       "      <td>50.0</td>\n",
       "      <td>0.016846</td>\n",
       "      <td>0.183154</td>\n",
       "      <td>0</td>\n",
       "      <td>0.166308</td>\n",
       "    </tr>\n",
       "    <tr>\n",
       "      <th>2</th>\n",
       "      <td>PPI</td>\n",
       "      <td>50.0</td>\n",
       "      <td>[0.14080885210203614]</td>\n",
       "      <td>[0.3323190907367843]</td>\n",
       "      <td>1</td>\n",
       "      <td>[0.19151023863474814]</td>\n",
       "    </tr>\n",
       "    <tr>\n",
       "      <th>3</th>\n",
       "      <td>Classical</td>\n",
       "      <td>50.0</td>\n",
       "      <td>0.121621</td>\n",
       "      <td>0.358379</td>\n",
       "      <td>1</td>\n",
       "      <td>0.236758</td>\n",
       "    </tr>\n",
       "    <tr>\n",
       "      <th>4</th>\n",
       "      <td>PPI</td>\n",
       "      <td>50.0</td>\n",
       "      <td>[0.057773249159866535]</td>\n",
       "      <td>[0.1899041110806217]</td>\n",
       "      <td>2</td>\n",
       "      <td>[0.13213086192075515]</td>\n",
       "    </tr>\n",
       "    <tr>\n",
       "      <th>5</th>\n",
       "      <td>Classical</td>\n",
       "      <td>50.0</td>\n",
       "      <td>0.016846</td>\n",
       "      <td>0.183154</td>\n",
       "      <td>2</td>\n",
       "      <td>0.166308</td>\n",
       "    </tr>\n",
       "    <tr>\n",
       "      <th>6</th>\n",
       "      <td>PPI</td>\n",
       "      <td>50.0</td>\n",
       "      <td>[0.11659668839521856]</td>\n",
       "      <td>[0.27673446394997425]</td>\n",
       "      <td>3</td>\n",
       "      <td>[0.1601377755547557]</td>\n",
       "    </tr>\n",
       "    <tr>\n",
       "      <th>7</th>\n",
       "      <td>Classical</td>\n",
       "      <td>50.0</td>\n",
       "      <td>0.058384</td>\n",
       "      <td>0.261616</td>\n",
       "      <td>3</td>\n",
       "      <td>0.203232</td>\n",
       "    </tr>\n",
       "    <tr>\n",
       "      <th>8</th>\n",
       "      <td>PPI</td>\n",
       "      <td>50.0</td>\n",
       "      <td>[0.04003866053681808]</td>\n",
       "      <td>[0.2180935941507825]</td>\n",
       "      <td>4</td>\n",
       "      <td>[0.1780549336139644]</td>\n",
       "    </tr>\n",
       "    <tr>\n",
       "      <th>9</th>\n",
       "      <td>Classical</td>\n",
       "      <td>50.0</td>\n",
       "      <td>0.029927</td>\n",
       "      <td>0.210073</td>\n",
       "      <td>4</td>\n",
       "      <td>0.180146</td>\n",
       "    </tr>\n",
       "    <tr>\n",
       "      <th>10</th>\n",
       "      <td>PPI</td>\n",
       "      <td>50.0</td>\n",
       "      <td>[0.03788986423406452]</td>\n",
       "      <td>[0.14765694523493625]</td>\n",
       "      <td>5</td>\n",
       "      <td>[0.10976708100087174]</td>\n",
       "    </tr>\n",
       "    <tr>\n",
       "      <th>11</th>\n",
       "      <td>Classical</td>\n",
       "      <td>50.0</td>\n",
       "      <td>0.016846</td>\n",
       "      <td>0.183154</td>\n",
       "      <td>5</td>\n",
       "      <td>0.166308</td>\n",
       "    </tr>\n",
       "    <tr>\n",
       "      <th>12</th>\n",
       "      <td>PPI</td>\n",
       "      <td>50.0</td>\n",
       "      <td>[0.07475675004291567]</td>\n",
       "      <td>[0.2716355282433151]</td>\n",
       "      <td>6</td>\n",
       "      <td>[0.19687877820039945]</td>\n",
       "    </tr>\n",
       "    <tr>\n",
       "      <th>13</th>\n",
       "      <td>Classical</td>\n",
       "      <td>50.0</td>\n",
       "      <td>0.058384</td>\n",
       "      <td>0.261616</td>\n",
       "      <td>6</td>\n",
       "      <td>0.203232</td>\n",
       "    </tr>\n",
       "    <tr>\n",
       "      <th>14</th>\n",
       "      <td>PPI</td>\n",
       "      <td>50.0</td>\n",
       "      <td>[0.02182210052890199]</td>\n",
       "      <td>[0.18602003738157097]</td>\n",
       "      <td>7</td>\n",
       "      <td>[0.16419793685266898]</td>\n",
       "    </tr>\n",
       "    <tr>\n",
       "      <th>15</th>\n",
       "      <td>Classical</td>\n",
       "      <td>50.0</td>\n",
       "      <td>0.016846</td>\n",
       "      <td>0.183154</td>\n",
       "      <td>7</td>\n",
       "      <td>0.166308</td>\n",
       "    </tr>\n",
       "    <tr>\n",
       "      <th>16</th>\n",
       "      <td>PPI</td>\n",
       "      <td>50.0</td>\n",
       "      <td>[0.04203086976086814]</td>\n",
       "      <td>[0.11699361475244657]</td>\n",
       "      <td>8</td>\n",
       "      <td>[0.07496274499157843]</td>\n",
       "    </tr>\n",
       "    <tr>\n",
       "      <th>17</th>\n",
       "      <td>Classical</td>\n",
       "      <td>50.0</td>\n",
       "      <td>0.004803</td>\n",
       "      <td>0.155197</td>\n",
       "      <td>8</td>\n",
       "      <td>0.150395</td>\n",
       "    </tr>\n",
       "    <tr>\n",
       "      <th>18</th>\n",
       "      <td>PPI</td>\n",
       "      <td>50.0</td>\n",
       "      <td>[0.07432361619500656]</td>\n",
       "      <td>[0.25196187512345625]</td>\n",
       "      <td>9</td>\n",
       "      <td>[0.1776382589284497]</td>\n",
       "    </tr>\n",
       "    <tr>\n",
       "      <th>19</th>\n",
       "      <td>Classical</td>\n",
       "      <td>50.0</td>\n",
       "      <td>0.089128</td>\n",
       "      <td>0.310872</td>\n",
       "      <td>9</td>\n",
       "      <td>0.221745</td>\n",
       "    </tr>\n",
       "  </tbody>\n",
       "</table>\n",
       "</div>"
      ],
      "text/plain": [
       "       method     n                   lower                  upper  trial  \\\n",
       "0         PPI  50.0   [0.06049576565377464]  [0.18598778993915965]      0   \n",
       "1   Classical  50.0                0.016846               0.183154      0   \n",
       "2         PPI  50.0   [0.14080885210203614]   [0.3323190907367843]      1   \n",
       "3   Classical  50.0                0.121621               0.358379      1   \n",
       "4         PPI  50.0  [0.057773249159866535]   [0.1899041110806217]      2   \n",
       "5   Classical  50.0                0.016846               0.183154      2   \n",
       "6         PPI  50.0   [0.11659668839521856]  [0.27673446394997425]      3   \n",
       "7   Classical  50.0                0.058384               0.261616      3   \n",
       "8         PPI  50.0   [0.04003866053681808]   [0.2180935941507825]      4   \n",
       "9   Classical  50.0                0.029927               0.210073      4   \n",
       "10        PPI  50.0   [0.03788986423406452]  [0.14765694523493625]      5   \n",
       "11  Classical  50.0                0.016846               0.183154      5   \n",
       "12        PPI  50.0   [0.07475675004291567]   [0.2716355282433151]      6   \n",
       "13  Classical  50.0                0.058384               0.261616      6   \n",
       "14        PPI  50.0   [0.02182210052890199]  [0.18602003738157097]      7   \n",
       "15  Classical  50.0                0.016846               0.183154      7   \n",
       "16        PPI  50.0   [0.04203086976086814]  [0.11699361475244657]      8   \n",
       "17  Classical  50.0                0.004803               0.155197      8   \n",
       "18        PPI  50.0   [0.07432361619500656]  [0.25196187512345625]      9   \n",
       "19  Classical  50.0                0.089128               0.310872      9   \n",
       "\n",
       "                    width  \n",
       "0   [0.12549202428538503]  \n",
       "1                0.166308  \n",
       "2   [0.19151023863474814]  \n",
       "3                0.236758  \n",
       "4   [0.13213086192075515]  \n",
       "5                0.166308  \n",
       "6    [0.1601377755547557]  \n",
       "7                0.203232  \n",
       "8    [0.1780549336139644]  \n",
       "9                0.180146  \n",
       "10  [0.10976708100087174]  \n",
       "11               0.166308  \n",
       "12  [0.19687877820039945]  \n",
       "13               0.203232  \n",
       "14  [0.16419793685266898]  \n",
       "15               0.166308  \n",
       "16  [0.07496274499157843]  \n",
       "17               0.150395  \n",
       "18   [0.1776382589284497]  \n",
       "19               0.221745  "
      ]
     },
     "execution_count": 13,
     "metadata": {},
     "output_type": "execute_result"
    }
   ],
   "source": [
    "print(df.shape)\n",
    "df.head(20)"
   ]
  },
  {
   "cell_type": "code",
   "execution_count": null,
   "id": "48e26912bc785b55",
   "metadata": {},
   "outputs": [],
   "source": []
  },
  {
   "cell_type": "markdown",
   "id": "d15ba288",
   "metadata": {},
   "source": [
    "### Plot results\n",
    "\n",
    "Plot:\n",
    "1. Five randomly chosen intervals from the dataframe for PPI and the classical method, and the imputed interval;\n",
    "2. The average interval width for PPI and the classical method, together with a scatterplot of the widths from the five random draws."
   ]
  },
  {
   "cell_type": "code",
   "execution_count": 14,
   "id": "6077b2c4",
   "metadata": {
    "ExecuteTime": {
     "end_time": "2025-09-07T10:32:40.654557Z",
     "start_time": "2025-09-07T10:32:39.512550Z"
    }
   },
   "outputs": [
    {
     "data": {
      "image/png": "[encoded data removed]",
      "text/plain": [
       "<Figure size 900x300 with 3 Axes>"
      ]
     },
     "metadata": {},
     "output_type": "display_data"
    }
   ],
   "source": [
    "make_plots(\n",
    "    df,\n",
    "    \"./plots/forest.pdf\",\n",
    "    n_idx=3,\n",
    "    intervals_xlabel=\"Fraction of deforested areas\",\n",
    "    true_theta=true_theta,\n",
    ")"
   ]
  },
  {
   "cell_type": "markdown",
   "id": "e98ef1fe-6fa3-4fcb-9c6e-da5149f854dd",
   "metadata": {},
   "source": [
    "### Power experiment\n",
    "\n",
    "For PPI and the classical approach, find the smallest value of ```n``` such that the method has power 80% against the null that there is no deforestation, $H_0: \\text{deforestation} \\leq 0$."
   ]
  },
  {
   "cell_type": "code",
   "execution_count": 6,
   "id": "b47b9e77",
   "metadata": {
    "ExecuteTime": {
     "end_time": "2025-09-06T19:30:03.932513Z",
     "start_time": "2025-09-06T19:30:03.523169Z"
    }
   },
   "outputs": [],
   "source": [
    "# Find n such that we reject H0: fraction of deforested areas <=0 with probability 80% using a test at level alpha\n",
    "num_experiments = 100\n",
    "list_rand_idx = [\n",
    "    np.random.permutation(n_total) for i in range(num_experiments)\n",
    "]\n",
    "\n",
    "\n",
    "def _to_invert_ppi(n):\n",
    "    n = int(n)\n",
    "    nulls_rejected = 0\n",
    "    # Data setup\n",
    "    for i in range(num_experiments):\n",
    "        rand_idx = list_rand_idx[i]\n",
    "        _Yhat = Yhat_total[rand_idx[:n]]\n",
    "        _Y = Y_total[rand_idx[:n]]\n",
    "        _Yhat_unlabeled = Yhat_total[rand_idx[n:]]\n",
    "\n",
    "        ppi_ci = ppi_mean_ci(_Y, _Yhat, _Yhat_unlabeled, alpha=alpha)\n",
    "        if ppi_ci[0] > 0:\n",
    "            nulls_rejected += 1\n",
    "    return nulls_rejected / num_experiments - 0.8\n",
    "\n",
    "\n",
    "def _to_invert_classical(n):\n",
    "    n = int(n)\n",
    "    nulls_rejected = 0\n",
    "    # Data setup\n",
    "    for i in range(num_experiments):\n",
    "        rand_idx = list_rand_idx[i]\n",
    "        _Y = Y_total[rand_idx[:n]]\n",
    "\n",
    "        classical_ci = classical_mean_ci(_Y, alpha=alpha)\n",
    "\n",
    "        if classical_ci[0] > 0:\n",
    "            nulls_rejected += 1\n",
    "    return nulls_rejected / num_experiments - 0.8"
   ]
  },
  {
   "cell_type": "code",
   "execution_count": 7,
   "id": "7f8107bb",
   "metadata": {
    "ExecuteTime": {
     "end_time": "2025-09-06T19:30:10.196487Z",
     "start_time": "2025-09-06T19:30:08.920160Z"
    }
   },
   "outputs": [
    {
     "name": "stdout",
     "output_type": "stream",
     "text": [
      "The PPI test requires n=29 labeled data points to reject the null.\n",
      "The classical test requires n=33 labeled data points to reject the null.\n"
     ]
    }
   ],
   "source": [
    "n_ppi = int(brentq(_to_invert_ppi, 5, 500, xtol=1))\n",
    "n_classical = int(brentq(_to_invert_classical, 10, 500, xtol=1))\n",
    "print(\n",
    "    f\"The PPI test requires n={n_ppi} labeled data points to reject the null.\"\n",
    ")\n",
    "print(\n",
    "    f\"The classical test requires n={n_classical} labeled data points to reject the null.\"\n",
    ")"
   ]
  },
  {
   "cell_type": "code",
   "execution_count": null,
   "id": "333d8e456e9627e",
   "metadata": {},
   "outputs": [],
   "source": []
  }
 ],
 "metadata": {
  "kernelspec": {
   "display_name": "Python 3 (ipykernel)",
   "language": "python",
   "name": "python3"
  },
  "language_info": {
   "codemirror_mode": {
    "name": "ipython",
    "version": 3
   },
   "file_extension": ".py",
   "mimetype": "text/x-python",
   "name": "python",
   "nbconvert_exporter": "python",
   "pygments_lexer": "ipython3",
   "version": "3.9.12"
  }
 },
 "nbformat": 4,
 "nbformat_minor": 5
}
